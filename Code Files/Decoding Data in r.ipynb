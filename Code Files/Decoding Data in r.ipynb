{
 "cells": [
  {
   "cell_type": "code",
   "execution_count": 7,
   "id": "70bcb259",
   "metadata": {},
   "outputs": [
    {
     "ename": "ERROR",
     "evalue": "Error in library(tidyverse): there is no package called 'tidyverse'\n",
     "output_type": "error",
     "traceback": [
      "Error in library(tidyverse): there is no package called 'tidyverse'\nTraceback:\n",
      "1. library(tidyverse)"
     ]
    }
   ],
   "source": [
    "library(tidyverse)"
   ]
  },
  {
   "cell_type": "code",
   "execution_count": 4,
   "id": "13e83000",
   "metadata": {},
   "outputs": [
    {
     "name": "stderr",
     "output_type": "stream",
     "text": [
      "Warning message in rbind(parts$upper, ellip_v, parts$lower, deparse.level = 0L):\n",
      "\"number of columns of result is not a multiple of vector length (arg 2)\""
     ]
    },
    {
     "data": {
      "text/html": [],
      "text/latex": [],
      "text/markdown": [],
      "text/plain": [
       "      \n",
       "1     \n",
       "2     \n",
       "3     \n",
       "4     \n",
       "5     \n",
       "6     \n",
       "7     \n",
       "8     \n",
       "9     \n",
       "10    \n",
       "11    \n",
       "12    \n",
       "13    \n",
       "14    \n",
       "15    \n",
       "16    \n",
       "17    \n",
       "18    \n",
       "19    \n",
       "20    \n",
       "21    \n",
       "22    \n",
       "23    \n",
       "24    \n",
       "25    \n",
       "26    \n",
       "27    \n",
       "28    \n",
       "29    \n",
       "30    \n",
       "...   \n",
       "614287\n",
       "614288\n",
       "614289\n",
       "614290\n",
       "614291\n",
       "614292\n",
       "614293\n",
       "614294\n",
       "614295\n",
       "614296\n",
       "614297\n",
       "614298\n",
       "614299\n",
       "614300\n",
       "614301\n",
       "614302\n",
       "614303\n",
       "614304\n",
       "614305\n",
       "614306\n",
       "614307\n",
       "614308\n",
       "614309\n",
       "614310\n",
       "614311\n",
       "614312\n",
       "614313\n",
       "614314\n",
       "614315\n",
       "614316"
      ]
     },
     "metadata": {},
     "output_type": "display_data"
    }
   ],
   "source": [
    "my_data <- read.delim(\"C:/Users/Joshua/Documents/GitHub/SHP/Muon Measurement Data/25-01-31-16-14.data\")\n",
    "my_data"
   ]
  },
  {
   "cell_type": "code",
   "execution_count": 2,
   "id": "f878055b",
   "metadata": {},
   "outputs": [],
   "source": []
  },
  {
   "cell_type": "code",
   "execution_count": null,
   "id": "9f4157cb",
   "metadata": {},
   "outputs": [],
   "source": []
  }
 ],
 "metadata": {
  "kernelspec": {
   "display_name": "R",
   "language": "R",
   "name": "ir"
  },
  "language_info": {
   "codemirror_mode": "r",
   "file_extension": ".r",
   "mimetype": "text/x-r-source",
   "name": "R",
   "pygments_lexer": "r",
   "version": "3.6.1"
  }
 },
 "nbformat": 4,
 "nbformat_minor": 5
}
